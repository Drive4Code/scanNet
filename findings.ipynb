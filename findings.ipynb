{
 "cells": [
  {
   "attachments": {},
   "cell_type": "markdown",
   "metadata": {},
   "source": [
    "## Objective: Scan and return all items in a network stack. (Optionals: Return OS type) \n",
    "## Then write a python script to automate the process & Highlight changes. \n",
    "## Ultimately this will end up on a database of all ips, in order to list all of their possible vulnerabilities"
   ]
  },
  {
   "attachments": {},
   "cell_type": "markdown",
   "metadata": {},
   "source": [
    "## Nmap"
   ]
  },
  {
   "cell_type": "code",
   "execution_count": null,
   "metadata": {},
   "outputs": [],
   "source": [
    "\"sudo nmap -sP 84.3.251.0/24\""
   ]
  },
  {
   "attachments": {},
   "cell_type": "markdown",
   "metadata": {},
   "source": [
    "Current Plan:\n",
    "<ul>\n",
    "    <li>Get all hosts from nmap scan</li>\n",
    "    <li>Iterate trough each one to get the OS, including every single port</li>"
   ]
  }
 ],
 "metadata": {
  "language_info": {
   "name": "python"
  },
  "orig_nbformat": 4
 },
 "nbformat": 4,
 "nbformat_minor": 2
}
